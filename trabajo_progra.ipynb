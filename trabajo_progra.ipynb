{
 "cells": [
  {
   "cell_type": "code",
   "execution_count": 1,
   "metadata": {},
   "outputs": [],
   "source": [
    "class Usuario:\n",
    "    def __init__(self, nombre, altura, peso, edad, genero, nivel_condicion_fisica=\"Principiante\", objetivo=\"Mantenimiento\"):\n",
    "    \n",
    "        # Atributos privados (contienen información personal)\n",
    "        self.nombre = nombre # Nombre del usuario\n",
    "        self.altura = altura # Altura en metros\n",
    "        self.peso = peso # Peso en kilogramos\n",
    "        self.edad = edad # Edad del usuario\n",
    "        self.genero = genero.lower() # Género\n",
    "        self.nivel_condicion_fisica = nivel_condicion_fisica # Nivel de condición física inicial ('Principiante', 'Intermedio', 'Avanzado')\n",
    "        self.objetivo = objetivo # Objetivo de ejercicio ('Perder peso', 'Ganar músculo', 'Mantenimiento')\n",
    "\n",
    "        niveles_validos = [\"Principiante\", \"Intermedio\", \"Avanzado\"]\n",
    "        objetivos_validos = [\"Perder peso\", \"Ganar músculo\", \"Mantenimiento\"]\n",
    "        generos_validos = [\"mujer\", \"hombre\"]\n",
    "\n",
    "        # Validación del nivel de condición física\n",
    "        if nivel_condicion_fisica not in niveles_validos:\n",
    "            raise ValueError(f\"Nivel de condición física no es válido. Debe ser uno de: {niveles_validos}\")\n",
    "        if objetivo not in objetivos_validos:\n",
    "            raise ValueError(f\"Objetivo no válido. Debe ser uno de: {objetivos_validos}\")\n",
    "        if genero not in generos_validos:\n",
    "            raise ValueError(f\"Género no válido. Debe ser uno de: {generos_validos}\")\n",
    "\n",
    "\n",
    "    # Actualizar los datos personales del usuario\n",
    "    def ingresar_datos_personales(self, nombre, altura, peso, edad, genero):\n",
    "        self.nombre = nombre\n",
    "        self.altura = altura\n",
    "        self.peso = peso\n",
    "        self.edad = edad\n",
    "        self.genero = genero.lower()\n",
    "        print(\"Datos personales actualizados.\")\n",
    "\n",
    "     # Define/actualiza el objetivo con validación\n",
    "    def actualizar_objetivo(self, nuevo_objetivo):\n",
    "        objetivos_validos = [\"Perder peso\", \"Ganar músculo\", \"Mantenimiento\"]\n",
    "        if nuevo_objetivo in objetivos_validos:\n",
    "            self._objetivo = nuevo_objetivo\n",
    "            print(f\"Objetivo actualizado a: {nuevo_objetivo}\")\n",
    "        else:\n",
    "            raise ValueError(f\"Objetivo no válido. Debe ser uno de: {objetivos_validos}\")\n",
    "\n",
    "    # Recomendar rutina según objetivo y nivel de condición física\n",
    "    def recomendar_rutina(self, rutinas):\n",
    "        # Filtrar las rutinas por objetivo y nivel de condición física\n",
    "        recomendaciones = [rutina for rutina in rutinas if rutina.objetivo == self.objetivo and rutina.nivel == self.nivel_condicion_fisica]\n",
    "        print(f\"Se han recomendado {len(recomendaciones)} rutinas basadas en el objetivo: {self.objetivo} y nivel: {self.nivel_condicion_fisica}\")\n",
    "        return recomendaciones\n"
   ]
  },
  {
   "cell_type": "code",
   "execution_count": 8,
   "metadata": {},
   "outputs": [
    {
     "name": "stdout",
     "output_type": "stream",
     "text": [
      "Nombre del usuario: Marta\n",
      "Datos personales actualizados.\n",
      "Altura del usuario: 1.68\n"
     ]
    }
   ],
   "source": [
    "# Pruebas\n",
    "\n",
    "# Crear una instancia de Usuario\n",
    "usuario = Usuario(nombre=\"Marta\", altura=1.65, peso=65, edad=25, genero=\"mujer\")\n",
    "print(f'Nombre del usuario: {usuario.nombre}')\n",
    "\n",
    "# Actualizar datos personales\n",
    "usuario.ingresar_datos_personales(\"Marta\", 1.68, 64, 26, \"mujer\")\n",
    "print(f'Altura del usuario: {usuario.altura}')"
   ]
  }
 ],
 "metadata": {
  "kernelspec": {
   "display_name": "DM_reto9",
   "language": "python",
   "name": "python3"
  },
  "language_info": {
   "codemirror_mode": {
    "name": "ipython",
    "version": 3
   },
   "file_extension": ".py",
   "mimetype": "text/x-python",
   "name": "python",
   "nbconvert_exporter": "python",
   "pygments_lexer": "ipython3",
   "version": "3.7.12"
  }
 },
 "nbformat": 4,
 "nbformat_minor": 2
}
